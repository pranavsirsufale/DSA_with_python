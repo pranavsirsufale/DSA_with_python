{
 "cells": [
  {
   "cell_type": "markdown",
   "metadata": {
    "colab_type": "text",
    "id": "1h__F05n0cYN"
   },
   "source": [
    "# Practice Exercise"
   ]
  },
  {
   "cell_type": "code",
   "execution_count": null,
   "metadata": {},
   "outputs": [],
   "source": []
  },
  {
   "cell_type": "markdown",
   "metadata": {
    "colab_type": "text",
    "id": "qEzf6y1409zw"
   },
   "source": [
    "Question 1: Print a random integer between 100 and 135"
   ]
  },
  {
   "cell_type": "code",
   "execution_count": 52,
   "metadata": {
    "colab": {},
    "colab_type": "code",
    "id": "yisQGrBd0bzN"
   },
   "outputs": [
    {
     "name": "stdout",
     "output_type": "stream",
     "text": [
      "122\n"
     ]
    }
   ],
   "source": [
    "# Import required libraries:\n",
    "\n",
    "# Print a random integer in the given range:\n",
    "import random\n",
    "print(random.randint(100,135))\n"
   ]
  },
  {
   "cell_type": "markdown",
   "metadata": {
    "colab_type": "text",
    "id": "vxC8oK_G1w_O"
   },
   "source": [
    "Question 2: Create a list consisting of first 10 even numbers."
   ]
  },
  {
   "cell_type": "code",
   "execution_count": null,
   "metadata": {
    "colab": {},
    "colab_type": "code",
    "id": "CQ9oPVOf1UZB"
   },
   "outputs": [
    {
     "name": "stdout",
     "output_type": "stream",
     "text": [
      "[1, 2, 3, 4, 5, 6, 7, 8, 9, 10]\n"
     ]
    }
   ],
   "source": [
    "# Create a list according to the given condition:\n",
    "\n",
    "\n"
   ]
  },
  {
   "cell_type": "markdown",
   "metadata": {
    "colab_type": "text",
    "id": "GP-3AHb52piM"
   },
   "source": [
    "Question 3: Create a list in the following manner: [birthyear, firstname, birthdate, lastname]"
   ]
  },
  {
   "cell_type": "code",
   "execution_count": null,
   "metadata": {
    "colab": {},
    "colab_type": "code",
    "id": "D3bKLI8z2lSx"
   },
   "outputs": [],
   "source": [
    "# Create a list according to the given condition:\n"
   ]
  },
  {
   "cell_type": "markdown",
   "metadata": {
    "colab_type": "text",
    "id": "iKABjdd73bSO"
   },
   "source": [
    "Question 4: Create a nested list which consist of 2 students and their scores in mathematics and english:\n",
    "\n",
    "Students: Alex and Cody\n",
    "\n",
    "Alex scores 97 and 95 in mathematics and english respectively,\n",
    "\n",
    "Cody scores 89 and 92 in mathematics and english respectively.\n",
    "\n",
    "The list should be such that it first stores the name of students followed by the subjects and then their scores in nested lists."
   ]
  },
  {
   "cell_type": "code",
   "execution_count": 56,
   "metadata": {
    "colab": {},
    "colab_type": "code",
    "id": "oyaA3mz73Zds"
   },
   "outputs": [
    {
     "name": "stdout",
     "output_type": "stream",
     "text": [
      "['name', 'math', 'english']\n",
      "['alex', 97, 95]\n",
      "['cody', 89, 92]\n"
     ]
    }
   ],
   "source": [
    "# Create a list according to the given condition:\n",
    "\n",
    "marks = [['name','math','english'],['alex',97,95],['cody',89,92]]\n",
    "for i in marks:\n",
    "    print(i)"
   ]
  },
  {
   "cell_type": "markdown",
   "metadata": {
    "colab_type": "text",
    "id": "jycP6fUg4njv"
   },
   "source": [
    "Question 5: Given below is a list, find out whether is has the letter 'k' in it and print the result as true or false."
   ]
  },
  {
   "cell_type": "code",
   "execution_count": 64,
   "metadata": {
    "colab": {},
    "colab_type": "code",
    "id": "r-05TqnN4hub"
   },
   "outputs": [
    {
     "name": "stdout",
     "output_type": "stream",
     "text": [
      " True and the index is :  4\n"
     ]
    }
   ],
   "source": [
    "# Given below is a list:\n",
    "list3=[1,2,'r',7,'k',6,'o','h','d',5,9]\n",
    "\n",
    "# Define the character you are searching for:\n",
    "char_to_search = 'k'\n",
    "starting = -1\n",
    "flag = False\n",
    "for i in list3:\n",
    "    starting += 1\n",
    "    if i == char_to_search:\n",
    "        flag = True\n",
    "        break\n",
    "\n",
    "if flag:\n",
    "    print(\" True and the index is : \", starting )\n",
    "if not flag:\n",
    "    print(f'{char_to_search} is not found in the array')\n",
    "\n",
    "\n",
    "# print the result:"
   ]
  },
  {
   "cell_type": "markdown",
   "metadata": {
    "colab_type": "text",
    "id": "NT-4hspO55TH"
   },
   "source": [
    "Question 6: In the tuple given below, print the 3rd element."
   ]
  },
  {
   "cell_type": "code",
   "execution_count": 65,
   "metadata": {
    "colab": {},
    "colab_type": "code",
    "id": "J-CCGlN56gea"
   },
   "outputs": [
    {
     "name": "stdout",
     "output_type": "stream",
     "text": [
      "world\n"
     ]
    }
   ],
   "source": [
    "# Given below is the tuple:\n",
    "tuple1=(1,'hello','world','567')\n",
    "print(tuple1[2])\n",
    "\n",
    "# Print the 3rd element:"
   ]
  },
  {
   "cell_type": "markdown",
   "metadata": {
    "colab_type": "text",
    "id": "wx6WT1K255WN"
   },
   "source": [
    "Question 7: Given below is a tuple. Sort the tuple and print the result."
   ]
  },
  {
   "cell_type": "code",
   "execution_count": 75,
   "metadata": {
    "colab": {},
    "colab_type": "code",
    "id": "VWmBEUud7MQ4"
   },
   "outputs": [
    {
     "name": "stdout",
     "output_type": "stream",
     "text": [
      "(1, 3, 25, 54, 67, 100)\n",
      "(1, 3, 25, 54, 67, 100)\n"
     ]
    }
   ],
   "source": [
    "# Given below is the tuple:\n",
    "tuple2=(1,25,67,100,3,54)\n",
    "\n",
    "# Sort the tuple:\n",
    "# li = list(tuple1)\n",
    "# sho = tuple(sorted(list(tuple2)))\n",
    "shorted = tuple(sorted(list(tuple2)))\n",
    "shor = tuple(sorted(tuple2))\n",
    "print(shorted)\n",
    "print(shor)\n",
    "\n",
    "# Print the result:"
   ]
  },
  {
   "cell_type": "markdown",
   "metadata": {
    "colab_type": "text",
    "id": "nSSJcxQJ55ZU"
   },
   "source": [
    "Question 8: Given below is a list, convert into a set and print the output also print the length of the set."
   ]
  },
  {
   "cell_type": "code",
   "execution_count": 77,
   "metadata": {
    "colab": {},
    "colab_type": "code",
    "id": "m8CcJfyB87eP"
   },
   "outputs": [
    {
     "name": "stdout",
     "output_type": "stream",
     "text": [
      "{1, 2, 3, 4, 5, 6, 7}\n",
      "7\n"
     ]
    }
   ],
   "source": [
    "# Given below is the list:\n",
    "list4=[1,2,4,6,3,2,5,4,7,4,6,5,3,2,2,1]\n",
    "\n",
    "# Convert the list into set:\n",
    "se = set(list4)\n",
    "# Print the result:\n",
    "print(se)\n",
    "# Print the length of the set:\n",
    "print(len(se))\n"
   ]
  },
  {
   "cell_type": "markdown",
   "metadata": {
    "colab_type": "text",
    "id": "lbbGNfhh55cy"
   },
   "source": [
    "Question 9: Given below are two sets, perform the operations given below:\n",
    "1. Print their union\n",
    "2. Print their intersection\n",
    "3. Print their difference\n",
    "4. Print their symmetric difference"
   ]
  },
  {
   "cell_type": "code",
   "execution_count": 83,
   "metadata": {
    "colab": {},
    "colab_type": "code",
    "id": "04IIzknZ9-ZP"
   },
   "outputs": [
    {
     "name": "stdout",
     "output_type": "stream",
     "text": [
      "{1, 2, 3, 4, 5, 6, 7, 8, 9}\n",
      "{2, 3, 5}\n",
      "{1, 6, 7}\n",
      "{1, 4, 6, 7, 8, 9}\n"
     ]
    }
   ],
   "source": [
    "# Given below are two sets:\n",
    "a={1,2,3,5,6,7}\n",
    "b={4,5,8,9,2,3}\n",
    "\n",
    "# Print their union:\n",
    "un = set.union(a,b)\n",
    "print(un)\n",
    "# Print their intersection:\n",
    "inter = set.intersection(a,b)\n",
    "print(inter)\n",
    "\n",
    "# Print their difference:\n",
    "\n",
    "diff = set.difference(a,b)\n",
    "print(diff)\n",
    "\n",
    "# Print their symmetric difference:\n",
    "simdif = set.symmetric_difference(a,b)\n",
    "print(simdif)"
   ]
  },
  {
   "cell_type": "markdown",
   "metadata": {
    "colab_type": "text",
    "id": "aNFcEjza55fq"
   },
   "source": [
    "Question 10: Create a dictionary that stores the names and roll numbers of 5 students as given below:\n",
    "1. Sam, 21\n",
    "2. Cody, 12\n",
    "3. Addy, 3\n",
    "4. Zach, 45\n",
    "5. Amy, 6"
   ]
  },
  {
   "cell_type": "code",
   "execution_count": 90,
   "metadata": {
    "colab": {},
    "colab_type": "code",
    "id": "Wf2kp70A_IfD"
   },
   "outputs": [
    {
     "name": "stdout",
     "output_type": "stream",
     "text": [
      "{'sr': 1, 'name': 'sam', 'roll_no': 21}\n",
      "{'sr': 2, 'name': 'cody', 'roll_no': 12}\n",
      "{'sr': 3, 'name': 'addy', 'roll_no': 3}\n",
      "{'sr': 4, 'name': 'Zach', 'roll_no': 45}\n",
      "{'sr': 5, 'name': 'Amy', 'roll_no': 6}\n"
     ]
    }
   ],
   "source": [
    "# Create a dictionary:\n",
    "list_of_dict = [\n",
    "    {'sr':1, 'name' : 'sam','roll_no':21},\n",
    "    {'sr':2, 'name' : 'cody','roll_no':12},\n",
    "    {'sr':3, 'name' : 'addy','roll_no':3},\n",
    "    {'sr':4, 'name' : 'Zach','roll_no':45},\n",
    "    {'sr':5, 'name' : 'Amy','roll_no':6},\n",
    "]\n",
    "\n",
    "\n",
    "# Print the result:\n",
    "\n",
    "\n",
    "for i in list_of_dict:\n",
    "    print(i)"
   ]
  },
  {
   "cell_type": "markdown",
   "metadata": {
    "colab_type": "text",
    "id": "iFKlCBIA5WjL"
   },
   "source": [
    "Question 11: Due to admission of new students the roll number of zach has changed from 45 to 47. Make the required changes and print the new dictionary."
   ]
  },
  {
   "cell_type": "code",
   "execution_count": 92,
   "metadata": {
    "colab": {},
    "colab_type": "code",
    "id": "rE_fsHnYEZFk"
   },
   "outputs": [
    {
     "name": "stdout",
     "output_type": "stream",
     "text": [
      "{'sr': 1, 'name': 'sam', 'roll_no': 21}\n",
      "{'sr': 2, 'name': 'cody', 'roll_no': 12}\n",
      "{'sr': 3, 'name': 'addy', 'roll_no': 3}\n",
      "{'sr': 4, 'name': 'Zach', 'roll_no': 47}\n",
      "{'sr': 5, 'name': 'Amy', 'roll_no': 6}\n"
     ]
    }
   ],
   "source": [
    "# Update the roll number:\n",
    "\n",
    "for i in list_of_dict:\n",
    "    if i['name'] == 'Zach':\n",
    "        i['roll_no'] = 47\n",
    "# Print the new dictionary:\n",
    "\n",
    "for i in list_of_dict:\n",
    "    print(i)\n",
    "\n"
   ]
  },
  {
   "cell_type": "markdown",
   "metadata": {
    "colab_type": "text",
    "id": "MyrZDHMl55ir"
   },
   "source": [
    "Question 12: Sort the dictionary according to roll number.\n"
   ]
  },
  {
   "cell_type": "code",
   "execution_count": null,
   "metadata": {
    "colab": {},
    "colab_type": "code",
    "id": "NrdUqjkvEpRC"
   },
   "outputs": [
    {
     "ename": "TypeError",
     "evalue": "'<' not supported between instances of 'dict' and 'dict'",
     "output_type": "error",
     "traceback": [
      "\u001b[1;31m---------------------------------------------------------------------------\u001b[0m",
      "\u001b[1;31mTypeError\u001b[0m                                 Traceback (most recent call last)",
      "Cell \u001b[1;32mIn[95], line 2\u001b[0m\n\u001b[0;32m      1\u001b[0m \u001b[38;5;66;03m# Sort and print the students roll number wise in ascending order:\u001b[39;00m\n\u001b[1;32m----> 2\u001b[0m \u001b[38;5;28;43msorted\u001b[39;49m\u001b[43m(\u001b[49m\u001b[43mlist_of_dict\u001b[49m\u001b[43m)\u001b[49m\n\u001b[0;32m      3\u001b[0m \u001b[38;5;28;01mfor\u001b[39;00m i \u001b[38;5;129;01min\u001b[39;00m list_of_dict:\n\u001b[0;32m      4\u001b[0m     \u001b[38;5;28mprint\u001b[39m(i)\n",
      "\u001b[1;31mTypeError\u001b[0m: '<' not supported between instances of 'dict' and 'dict'"
     ]
    }
   ],
   "source": [
    "# Sort and print the students roll number wise in ascending order:\n"
   ]
  }
 ],
 "metadata": {
  "colab": {
   "name": "Data structures in Python.ipynb",
   "provenance": []
  },
  "kernelspec": {
   "display_name": "Python 3",
   "language": "python",
   "name": "python3"
  },
  "language_info": {
   "codemirror_mode": {
    "name": "ipython",
    "version": 3
   },
   "file_extension": ".py",
   "mimetype": "text/x-python",
   "name": "python",
   "nbconvert_exporter": "python",
   "pygments_lexer": "ipython3",
   "version": "3.11.5"
  }
 },
 "nbformat": 4,
 "nbformat_minor": 1
}
